{
 "cells": [
  {
   "cell_type": "markdown",
   "id": "8648fa02",
   "metadata": {},
   "source": [
    "Credit Risk Dataset Features:\n",
    "* person_age: Kişinin yaşı (Age)\n",
    "* person_income: Kişinin yıllık geliri (Annual Income)\n",
    "* person_home_ownership: Kişinin ev sahipliği durumu (Home ownership)\n",
    "* person_emp_length: Kişinin yıllık olarak çalıştığı süre (Employment length (in years))\n",
    "* loan_intent:\tKişinin kredi alma amacı (Loan intent)\n",
    "* loan_grade: Kişinin kredi notu (Loan grade)\n",
    "* loan_amnt: Kişinin aldığı kredi miktarı (Loan amount)\n",
    "* loan_int_rate: Kredi için uygulanan faiz oranı (Interest rate)\n",
    "* loan_status: Kredi durumu (0 ise temerrüde düşmemiş, 1 ise temerrüde düşmüş) (Loan status (0 is non default 1 is default))\n",
    "* loan_percent_income: Kredi miktarının yıllık gelire oranı (Percent income)\n",
    "* cb_person_default_on_file: Kişinin geçmişte temerrüde düşüp düşmediği (Historical default)\n",
    "* cb_preson_cred_hist_length: Kişinin kredi geçmişinin süresi (Credit history length)\n",
    "\n",
    "\n",
    "Kaynak(Source): https://www.kaggle.com/datasets/laotse/credit-risk-dataset"
   ]
  },
  {
   "cell_type": "code",
   "execution_count": 36,
   "id": "62a39754",
   "metadata": {},
   "outputs": [],
   "source": [
    "import pandas as pd\n",
    "import numpy as np\n",
    "import seaborn as sns\n",
    "import matplotlib.pyplot as plt\n",
    "from sklearn.preprocessing import LabelEncoder,OneHotEncoder"
   ]
  },
  {
   "cell_type": "code",
   "execution_count": 2,
   "id": "c73f8c07",
   "metadata": {},
   "outputs": [],
   "source": [
    "# !pip install nbimporter"
   ]
  },
  {
   "cell_type": "code",
   "execution_count": 3,
   "id": "de2a1836",
   "metadata": {},
   "outputs": [
    {
     "data": {
      "text/html": [
       "<div>\n",
       "<style scoped>\n",
       "    .dataframe tbody tr th:only-of-type {\n",
       "        vertical-align: middle;\n",
       "    }\n",
       "\n",
       "    .dataframe tbody tr th {\n",
       "        vertical-align: top;\n",
       "    }\n",
       "\n",
       "    .dataframe thead th {\n",
       "        text-align: right;\n",
       "    }\n",
       "</style>\n",
       "<table border=\"1\" class=\"dataframe\">\n",
       "  <thead>\n",
       "    <tr style=\"text-align: right;\">\n",
       "      <th></th>\n",
       "      <th>person_age</th>\n",
       "      <th>person_income</th>\n",
       "      <th>person_home_ownership</th>\n",
       "      <th>person_emp_length</th>\n",
       "      <th>loan_intent</th>\n",
       "      <th>loan_grade</th>\n",
       "      <th>loan_amnt</th>\n",
       "      <th>loan_int_rate</th>\n",
       "      <th>loan_status</th>\n",
       "      <th>loan_percent_income</th>\n",
       "      <th>cb_person_default_on_file</th>\n",
       "      <th>cb_person_cred_hist_length</th>\n",
       "    </tr>\n",
       "  </thead>\n",
       "  <tbody>\n",
       "    <tr>\n",
       "      <th>0</th>\n",
       "      <td>22</td>\n",
       "      <td>59000</td>\n",
       "      <td>RENT</td>\n",
       "      <td>123.0</td>\n",
       "      <td>PERSONAL</td>\n",
       "      <td>D</td>\n",
       "      <td>35000</td>\n",
       "      <td>16.02</td>\n",
       "      <td>1</td>\n",
       "      <td>0.59</td>\n",
       "      <td>Y</td>\n",
       "      <td>3</td>\n",
       "    </tr>\n",
       "    <tr>\n",
       "      <th>1</th>\n",
       "      <td>21</td>\n",
       "      <td>9600</td>\n",
       "      <td>OWN</td>\n",
       "      <td>5.0</td>\n",
       "      <td>EDUCATION</td>\n",
       "      <td>B</td>\n",
       "      <td>1000</td>\n",
       "      <td>11.14</td>\n",
       "      <td>0</td>\n",
       "      <td>0.10</td>\n",
       "      <td>N</td>\n",
       "      <td>2</td>\n",
       "    </tr>\n",
       "    <tr>\n",
       "      <th>2</th>\n",
       "      <td>25</td>\n",
       "      <td>9600</td>\n",
       "      <td>MORTGAGE</td>\n",
       "      <td>1.0</td>\n",
       "      <td>MEDICAL</td>\n",
       "      <td>C</td>\n",
       "      <td>5500</td>\n",
       "      <td>12.87</td>\n",
       "      <td>1</td>\n",
       "      <td>0.57</td>\n",
       "      <td>N</td>\n",
       "      <td>3</td>\n",
       "    </tr>\n",
       "    <tr>\n",
       "      <th>3</th>\n",
       "      <td>23</td>\n",
       "      <td>65500</td>\n",
       "      <td>RENT</td>\n",
       "      <td>4.0</td>\n",
       "      <td>MEDICAL</td>\n",
       "      <td>C</td>\n",
       "      <td>35000</td>\n",
       "      <td>15.23</td>\n",
       "      <td>1</td>\n",
       "      <td>0.53</td>\n",
       "      <td>N</td>\n",
       "      <td>2</td>\n",
       "    </tr>\n",
       "    <tr>\n",
       "      <th>4</th>\n",
       "      <td>24</td>\n",
       "      <td>54400</td>\n",
       "      <td>RENT</td>\n",
       "      <td>8.0</td>\n",
       "      <td>MEDICAL</td>\n",
       "      <td>C</td>\n",
       "      <td>35000</td>\n",
       "      <td>14.27</td>\n",
       "      <td>1</td>\n",
       "      <td>0.55</td>\n",
       "      <td>Y</td>\n",
       "      <td>4</td>\n",
       "    </tr>\n",
       "  </tbody>\n",
       "</table>\n",
       "</div>"
      ],
      "text/plain": [
       "   person_age  person_income person_home_ownership  person_emp_length  \\\n",
       "0          22          59000                  RENT              123.0   \n",
       "1          21           9600                   OWN                5.0   \n",
       "2          25           9600              MORTGAGE                1.0   \n",
       "3          23          65500                  RENT                4.0   \n",
       "4          24          54400                  RENT                8.0   \n",
       "\n",
       "  loan_intent loan_grade  loan_amnt  loan_int_rate  loan_status  \\\n",
       "0    PERSONAL          D      35000          16.02            1   \n",
       "1   EDUCATION          B       1000          11.14            0   \n",
       "2     MEDICAL          C       5500          12.87            1   \n",
       "3     MEDICAL          C      35000          15.23            1   \n",
       "4     MEDICAL          C      35000          14.27            1   \n",
       "\n",
       "   loan_percent_income cb_person_default_on_file  cb_person_cred_hist_length  \n",
       "0                 0.59                         Y                           3  \n",
       "1                 0.10                         N                           2  \n",
       "2                 0.57                         N                           3  \n",
       "3                 0.53                         N                           2  \n",
       "4                 0.55                         Y                           4  "
      ]
     },
     "execution_count": 3,
     "metadata": {},
     "output_type": "execute_result"
    }
   ],
   "source": [
    "df = pd.read_csv(\"credit_risk_dataset.csv\")\n",
    "df.head()"
   ]
  },
  {
   "cell_type": "code",
   "execution_count": 4,
   "id": "158935b5",
   "metadata": {},
   "outputs": [
    {
     "data": {
      "text/html": [
       "<div>\n",
       "<style scoped>\n",
       "    .dataframe tbody tr th:only-of-type {\n",
       "        vertical-align: middle;\n",
       "    }\n",
       "\n",
       "    .dataframe tbody tr th {\n",
       "        vertical-align: top;\n",
       "    }\n",
       "\n",
       "    .dataframe thead th {\n",
       "        text-align: right;\n",
       "    }\n",
       "</style>\n",
       "<table border=\"1\" class=\"dataframe\">\n",
       "  <thead>\n",
       "    <tr style=\"text-align: right;\">\n",
       "      <th></th>\n",
       "      <th>person_age</th>\n",
       "      <th>person_income</th>\n",
       "      <th>person_home_ownership</th>\n",
       "      <th>person_emp_length</th>\n",
       "      <th>loan_intent</th>\n",
       "      <th>loan_grade</th>\n",
       "      <th>loan_amnt</th>\n",
       "      <th>loan_int_rate</th>\n",
       "      <th>loan_status</th>\n",
       "      <th>loan_percent_income</th>\n",
       "      <th>cb_person_default_on_file</th>\n",
       "      <th>cb_person_cred_hist_length</th>\n",
       "    </tr>\n",
       "  </thead>\n",
       "  <tbody>\n",
       "    <tr>\n",
       "      <th>0</th>\n",
       "      <td>22</td>\n",
       "      <td>59000</td>\n",
       "      <td>RENT</td>\n",
       "      <td>123.0</td>\n",
       "      <td>PERSONAL</td>\n",
       "      <td>D</td>\n",
       "      <td>35000</td>\n",
       "      <td>16.02</td>\n",
       "      <td>1</td>\n",
       "      <td>0.59</td>\n",
       "      <td>Y</td>\n",
       "      <td>3</td>\n",
       "    </tr>\n",
       "    <tr>\n",
       "      <th>1</th>\n",
       "      <td>21</td>\n",
       "      <td>9600</td>\n",
       "      <td>OWN</td>\n",
       "      <td>5.0</td>\n",
       "      <td>EDUCATION</td>\n",
       "      <td>B</td>\n",
       "      <td>1000</td>\n",
       "      <td>11.14</td>\n",
       "      <td>0</td>\n",
       "      <td>0.10</td>\n",
       "      <td>N</td>\n",
       "      <td>2</td>\n",
       "    </tr>\n",
       "    <tr>\n",
       "      <th>2</th>\n",
       "      <td>25</td>\n",
       "      <td>9600</td>\n",
       "      <td>MORTGAGE</td>\n",
       "      <td>1.0</td>\n",
       "      <td>MEDICAL</td>\n",
       "      <td>C</td>\n",
       "      <td>5500</td>\n",
       "      <td>12.87</td>\n",
       "      <td>1</td>\n",
       "      <td>0.57</td>\n",
       "      <td>N</td>\n",
       "      <td>3</td>\n",
       "    </tr>\n",
       "    <tr>\n",
       "      <th>3</th>\n",
       "      <td>23</td>\n",
       "      <td>65500</td>\n",
       "      <td>RENT</td>\n",
       "      <td>4.0</td>\n",
       "      <td>MEDICAL</td>\n",
       "      <td>C</td>\n",
       "      <td>35000</td>\n",
       "      <td>15.23</td>\n",
       "      <td>1</td>\n",
       "      <td>0.53</td>\n",
       "      <td>N</td>\n",
       "      <td>2</td>\n",
       "    </tr>\n",
       "    <tr>\n",
       "      <th>4</th>\n",
       "      <td>24</td>\n",
       "      <td>54400</td>\n",
       "      <td>RENT</td>\n",
       "      <td>8.0</td>\n",
       "      <td>MEDICAL</td>\n",
       "      <td>C</td>\n",
       "      <td>35000</td>\n",
       "      <td>14.27</td>\n",
       "      <td>1</td>\n",
       "      <td>0.55</td>\n",
       "      <td>Y</td>\n",
       "      <td>4</td>\n",
       "    </tr>\n",
       "  </tbody>\n",
       "</table>\n",
       "</div>"
      ],
      "text/plain": [
       "   person_age  person_income person_home_ownership  person_emp_length  \\\n",
       "0          22          59000                  RENT              123.0   \n",
       "1          21           9600                   OWN                5.0   \n",
       "2          25           9600              MORTGAGE                1.0   \n",
       "3          23          65500                  RENT                4.0   \n",
       "4          24          54400                  RENT                8.0   \n",
       "\n",
       "  loan_intent loan_grade  loan_amnt  loan_int_rate  loan_status  \\\n",
       "0    PERSONAL          D      35000          16.02            1   \n",
       "1   EDUCATION          B       1000          11.14            0   \n",
       "2     MEDICAL          C       5500          12.87            1   \n",
       "3     MEDICAL          C      35000          15.23            1   \n",
       "4     MEDICAL          C      35000          14.27            1   \n",
       "\n",
       "   loan_percent_income cb_person_default_on_file  cb_person_cred_hist_length  \n",
       "0                 0.59                         Y                           3  \n",
       "1                 0.10                         N                           2  \n",
       "2                 0.57                         N                           3  \n",
       "3                 0.53                         N                           2  \n",
       "4                 0.55                         Y                           4  "
      ]
     },
     "execution_count": 4,
     "metadata": {},
     "output_type": "execute_result"
    }
   ],
   "source": [
    "df.head()"
   ]
  },
  {
   "cell_type": "code",
   "execution_count": 5,
   "id": "a0c1d74e",
   "metadata": {},
   "outputs": [
    {
     "name": "stdout",
     "output_type": "stream",
     "text": [
      "##################### Shape #####################\n",
      "(32581, 12)\n",
      "##################### Types #####################\n",
      "person_age                      int64\n",
      "person_income                   int64\n",
      "person_home_ownership          object\n",
      "person_emp_length             float64\n",
      "loan_intent                    object\n",
      "loan_grade                     object\n",
      "loan_amnt                       int64\n",
      "loan_int_rate                 float64\n",
      "loan_status                     int64\n",
      "loan_percent_income           float64\n",
      "cb_person_default_on_file      object\n",
      "cb_person_cred_hist_length      int64\n",
      "dtype: object\n",
      "##################### Head #####################\n",
      "   person_age  person_income person_home_ownership  person_emp_length  \\\n",
      "0          22          59000                  RENT              123.0   \n",
      "1          21           9600                   OWN                5.0   \n",
      "2          25           9600              MORTGAGE                1.0   \n",
      "3          23          65500                  RENT                4.0   \n",
      "4          24          54400                  RENT                8.0   \n",
      "\n",
      "  loan_intent loan_grade  loan_amnt  loan_int_rate  loan_status  \\\n",
      "0    PERSONAL          D      35000          16.02            1   \n",
      "1   EDUCATION          B       1000          11.14            0   \n",
      "2     MEDICAL          C       5500          12.87            1   \n",
      "3     MEDICAL          C      35000          15.23            1   \n",
      "4     MEDICAL          C      35000          14.27            1   \n",
      "\n",
      "   loan_percent_income cb_person_default_on_file  cb_person_cred_hist_length  \n",
      "0                 0.59                         Y                           3  \n",
      "1                 0.10                         N                           2  \n",
      "2                 0.57                         N                           3  \n",
      "3                 0.53                         N                           2  \n",
      "4                 0.55                         Y                           4  \n",
      "##################### Tail #####################\n",
      "       person_age  person_income person_home_ownership  person_emp_length  \\\n",
      "32576          57          53000              MORTGAGE                1.0   \n",
      "32577          54         120000              MORTGAGE                4.0   \n",
      "32578          65          76000                  RENT                3.0   \n",
      "32579          56         150000              MORTGAGE                5.0   \n",
      "32580          66          42000                  RENT                2.0   \n",
      "\n",
      "           loan_intent loan_grade  loan_amnt  loan_int_rate  loan_status  \\\n",
      "32576         PERSONAL          C       5800          13.16            0   \n",
      "32577         PERSONAL          A      17625           7.49            0   \n",
      "32578  HOMEIMPROVEMENT          B      35000          10.99            1   \n",
      "32579         PERSONAL          B      15000          11.48            0   \n",
      "32580          MEDICAL          B       6475           9.99            0   \n",
      "\n",
      "       loan_percent_income cb_person_default_on_file  \\\n",
      "32576                 0.11                         N   \n",
      "32577                 0.15                         N   \n",
      "32578                 0.46                         N   \n",
      "32579                 0.10                         N   \n",
      "32580                 0.15                         N   \n",
      "\n",
      "       cb_person_cred_hist_length  \n",
      "32576                          30  \n",
      "32577                          19  \n",
      "32578                          28  \n",
      "32579                          26  \n",
      "32580                          30  \n",
      "##################### NA #####################\n",
      "person_age                       0\n",
      "person_income                    0\n",
      "person_home_ownership            0\n",
      "person_emp_length              895\n",
      "loan_intent                      0\n",
      "loan_grade                       0\n",
      "loan_amnt                        0\n",
      "loan_int_rate                 3116\n",
      "loan_status                      0\n",
      "loan_percent_income              0\n",
      "cb_person_default_on_file        0\n",
      "cb_person_cred_hist_length       0\n",
      "dtype: int64\n",
      "##################### Quantiles #####################\n",
      "                               0.00      0.05      0.50       0.95       0.99  \\\n",
      "person_age                    20.00     22.00     26.00      40.00      50.00   \n",
      "person_income               4000.00  22880.00  55000.00  138000.00  225200.00   \n",
      "person_emp_length              0.00      0.00      4.00      13.00      18.00   \n",
      "loan_amnt                    500.00   2000.00   8000.00   24000.00   29800.00   \n",
      "loan_int_rate                  5.42      6.03     10.99      16.32      18.62   \n",
      "loan_status                    0.00      0.00      0.00       1.00       1.00   \n",
      "loan_percent_income            0.00      0.04      0.15       0.38       0.50   \n",
      "cb_person_cred_hist_length     2.00      2.00      4.00      14.00      17.00   \n",
      "\n",
      "                                  1.00  \n",
      "person_age                      144.00  \n",
      "person_income               6000000.00  \n",
      "person_emp_length               123.00  \n",
      "loan_amnt                     35000.00  \n",
      "loan_int_rate                    23.22  \n",
      "loan_status                       1.00  \n",
      "loan_percent_income               0.83  \n",
      "cb_person_cred_hist_length       30.00  \n"
     ]
    }
   ],
   "source": [
    "def check_df(dataframe, head=5):\n",
    "    print(\"##################### Shape #####################\")\n",
    "    print(dataframe.shape)\n",
    "    print(\"##################### Types #####################\")\n",
    "    print(dataframe.dtypes)\n",
    "    print(\"##################### Head #####################\")\n",
    "    print(dataframe.head(head))\n",
    "    print(\"##################### Tail #####################\")\n",
    "    print(dataframe.tail(head))\n",
    "    print(\"##################### NA #####################\")\n",
    "    print(dataframe.isnull().sum())\n",
    "    print(\"##################### Quantiles #####################\")\n",
    "    print(dataframe.quantile([0, 0.05, 0.50, 0.95, 0.99, 1]).T)\n",
    "\n",
    "check_df(df)"
   ]
  },
  {
   "cell_type": "code",
   "execution_count": 6,
   "id": "e3dad5c8",
   "metadata": {},
   "outputs": [
    {
     "data": {
      "text/html": [
       "<div>\n",
       "<style scoped>\n",
       "    .dataframe tbody tr th:only-of-type {\n",
       "        vertical-align: middle;\n",
       "    }\n",
       "\n",
       "    .dataframe tbody tr th {\n",
       "        vertical-align: top;\n",
       "    }\n",
       "\n",
       "    .dataframe thead th {\n",
       "        text-align: right;\n",
       "    }\n",
       "</style>\n",
       "<table border=\"1\" class=\"dataframe\">\n",
       "  <thead>\n",
       "    <tr style=\"text-align: right;\">\n",
       "      <th></th>\n",
       "      <th>count</th>\n",
       "      <th>mean</th>\n",
       "      <th>std</th>\n",
       "      <th>min</th>\n",
       "      <th>25%</th>\n",
       "      <th>50%</th>\n",
       "      <th>75%</th>\n",
       "      <th>max</th>\n",
       "    </tr>\n",
       "  </thead>\n",
       "  <tbody>\n",
       "    <tr>\n",
       "      <th>person_age</th>\n",
       "      <td>32581.0</td>\n",
       "      <td>27.734600</td>\n",
       "      <td>6.348078</td>\n",
       "      <td>20.00</td>\n",
       "      <td>23.00</td>\n",
       "      <td>26.00</td>\n",
       "      <td>30.00</td>\n",
       "      <td>144.00</td>\n",
       "    </tr>\n",
       "    <tr>\n",
       "      <th>person_income</th>\n",
       "      <td>32581.0</td>\n",
       "      <td>66074.848470</td>\n",
       "      <td>61983.119168</td>\n",
       "      <td>4000.00</td>\n",
       "      <td>38500.00</td>\n",
       "      <td>55000.00</td>\n",
       "      <td>79200.00</td>\n",
       "      <td>6000000.00</td>\n",
       "    </tr>\n",
       "    <tr>\n",
       "      <th>person_emp_length</th>\n",
       "      <td>31686.0</td>\n",
       "      <td>4.789686</td>\n",
       "      <td>4.142630</td>\n",
       "      <td>0.00</td>\n",
       "      <td>2.00</td>\n",
       "      <td>4.00</td>\n",
       "      <td>7.00</td>\n",
       "      <td>123.00</td>\n",
       "    </tr>\n",
       "    <tr>\n",
       "      <th>loan_amnt</th>\n",
       "      <td>32581.0</td>\n",
       "      <td>9589.371106</td>\n",
       "      <td>6322.086646</td>\n",
       "      <td>500.00</td>\n",
       "      <td>5000.00</td>\n",
       "      <td>8000.00</td>\n",
       "      <td>12200.00</td>\n",
       "      <td>35000.00</td>\n",
       "    </tr>\n",
       "    <tr>\n",
       "      <th>loan_int_rate</th>\n",
       "      <td>29465.0</td>\n",
       "      <td>11.011695</td>\n",
       "      <td>3.240459</td>\n",
       "      <td>5.42</td>\n",
       "      <td>7.90</td>\n",
       "      <td>10.99</td>\n",
       "      <td>13.47</td>\n",
       "      <td>23.22</td>\n",
       "    </tr>\n",
       "    <tr>\n",
       "      <th>loan_status</th>\n",
       "      <td>32581.0</td>\n",
       "      <td>0.218164</td>\n",
       "      <td>0.413006</td>\n",
       "      <td>0.00</td>\n",
       "      <td>0.00</td>\n",
       "      <td>0.00</td>\n",
       "      <td>0.00</td>\n",
       "      <td>1.00</td>\n",
       "    </tr>\n",
       "    <tr>\n",
       "      <th>loan_percent_income</th>\n",
       "      <td>32581.0</td>\n",
       "      <td>0.170203</td>\n",
       "      <td>0.106782</td>\n",
       "      <td>0.00</td>\n",
       "      <td>0.09</td>\n",
       "      <td>0.15</td>\n",
       "      <td>0.23</td>\n",
       "      <td>0.83</td>\n",
       "    </tr>\n",
       "    <tr>\n",
       "      <th>cb_person_cred_hist_length</th>\n",
       "      <td>32581.0</td>\n",
       "      <td>5.804211</td>\n",
       "      <td>4.055001</td>\n",
       "      <td>2.00</td>\n",
       "      <td>3.00</td>\n",
       "      <td>4.00</td>\n",
       "      <td>8.00</td>\n",
       "      <td>30.00</td>\n",
       "    </tr>\n",
       "  </tbody>\n",
       "</table>\n",
       "</div>"
      ],
      "text/plain": [
       "                              count          mean           std      min  \\\n",
       "person_age                  32581.0     27.734600      6.348078    20.00   \n",
       "person_income               32581.0  66074.848470  61983.119168  4000.00   \n",
       "person_emp_length           31686.0      4.789686      4.142630     0.00   \n",
       "loan_amnt                   32581.0   9589.371106   6322.086646   500.00   \n",
       "loan_int_rate               29465.0     11.011695      3.240459     5.42   \n",
       "loan_status                 32581.0      0.218164      0.413006     0.00   \n",
       "loan_percent_income         32581.0      0.170203      0.106782     0.00   \n",
       "cb_person_cred_hist_length  32581.0      5.804211      4.055001     2.00   \n",
       "\n",
       "                                 25%       50%       75%         max  \n",
       "person_age                     23.00     26.00     30.00      144.00  \n",
       "person_income               38500.00  55000.00  79200.00  6000000.00  \n",
       "person_emp_length               2.00      4.00      7.00      123.00  \n",
       "loan_amnt                    5000.00   8000.00  12200.00    35000.00  \n",
       "loan_int_rate                   7.90     10.99     13.47       23.22  \n",
       "loan_status                     0.00      0.00      0.00        1.00  \n",
       "loan_percent_income             0.09      0.15      0.23        0.83  \n",
       "cb_person_cred_hist_length      3.00      4.00      8.00       30.00  "
      ]
     },
     "execution_count": 6,
     "metadata": {},
     "output_type": "execute_result"
    }
   ],
   "source": [
    "df.describe().T"
   ]
  },
  {
   "cell_type": "code",
   "execution_count": 7,
   "id": "ec32b084",
   "metadata": {},
   "outputs": [
    {
     "name": "stdout",
     "output_type": "stream",
     "text": [
      "Observations: 32581\n",
      "Variables: 12\n",
      "cat_cols: 5\n",
      "num_cols: 7\n",
      "cat_but_car: 0\n",
      "num_but_cat: 1\n"
     ]
    }
   ],
   "source": [
    "def grab_col_names(df, cat_th=10, car_th=20):\n",
    "    \"\"\"\n",
    "\n",
    "    Veri setindeki kategorik, numerik ve kategorik fakat kardinal değişkenlerin isimlerini verir.\n",
    "    Not: Kategorik değişkenlerin içerisine numerik görünümlü kategorik değişkenler de dahildir.\n",
    "\n",
    "    Parameters\n",
    "    ------\n",
    "        df: df\n",
    "                Değişken isimleri alınmak istenilen df\n",
    "        cat_th: int, optional\n",
    "                numerik fakat kategorik olan değişkenler için sınıf eşik değeri\n",
    "        car_th: int, optinal\n",
    "                kategorik fakat kardinal değişkenler için sınıf eşik değeri\n",
    "\n",
    "    Returns\n",
    "    ------\n",
    "        cat_cols: list\n",
    "                Kategorik değişken listesi\n",
    "        num_cols: list\n",
    "                Numerik değişken listesi\n",
    "        cat_but_car: list\n",
    "                Kategorik görünümlü kardinal değişken listesi\n",
    "\n",
    "    Examples\n",
    "    ------\n",
    "        import seaborn as sns\n",
    "        df = sns.load_dataset(\"iris\")\n",
    "        print(grab_col_names(df))\n",
    "\n",
    "\n",
    "    Notes\n",
    "    ------\n",
    "        cat_cols + num_cols + cat_but_car = toplam değişken sayısı\n",
    "        num_but_cat cat_cols'un içerisinde.\n",
    "        Return olan 3 liste toplamı toplam değişken sayısına eşittir: cat_cols + num_cols + cat_but_car = değişken sayısı\n",
    "\n",
    "    \"\"\"\n",
    "\n",
    "\n",
    "    # cat_cols, cat_but_car\n",
    "    cat_cols = [col for col in df.columns if df[col].dtypes == \"O\"]\n",
    "    num_but_cat = [col for col in df.columns if df[col].nunique() < cat_th and\n",
    "                   df[col].dtypes != \"O\"]\n",
    "    cat_but_car = [col for col in df.columns if df[col].nunique() > car_th and\n",
    "                   df[col].dtypes == \"O\"]\n",
    "    cat_cols = cat_cols + num_but_cat\n",
    "    cat_cols = [col for col in cat_cols if col not in cat_but_car]\n",
    "\n",
    "    # num_cols\n",
    "    num_cols = [col for col in df.columns if df[col].dtypes != \"O\"]\n",
    "    num_cols = [col for col in num_cols if col not in num_but_cat]\n",
    "\n",
    "    print(f\"Observations: {df.shape[0]}\")\n",
    "    print(f\"Variables: {df.shape[1]}\")\n",
    "    print(f'cat_cols: {len(cat_cols)}')\n",
    "    print(f'num_cols: {len(num_cols)}')\n",
    "    print(f'cat_but_car: {len(cat_but_car)}')\n",
    "    print(f'num_but_cat: {len(num_but_cat)}')\n",
    "    return cat_cols, num_cols, cat_but_car\n",
    "\n",
    "\n",
    "cat_cols, num_cols, cat_but_car= grab_col_names(df)"
   ]
  },
  {
   "cell_type": "markdown",
   "id": "fa64cdbd",
   "metadata": {},
   "source": [
    "#### Boş Değerler (Null Values)"
   ]
  },
  {
   "cell_type": "code",
   "execution_count": 8,
   "id": "ac0eec57",
   "metadata": {},
   "outputs": [
    {
     "name": "stdout",
     "output_type": "stream",
     "text": [
      "                   n_miss  ratio\n",
      "loan_int_rate        3116   9.56\n",
      "person_emp_length     895   2.75\n"
     ]
    }
   ],
   "source": [
    "def missing_values_table(dataframe, na_name=False):\n",
    "    na_columns = [col for col in dataframe.columns if dataframe[col].isnull().sum() > 0]\n",
    "\n",
    "    n_miss = dataframe[na_columns].isnull().sum().sort_values(ascending=False)\n",
    "    ratio = (dataframe[na_columns].isnull().sum() / dataframe.shape[0] * 100).sort_values(ascending=False)\n",
    "    missing_df = pd.concat([n_miss, np.round(ratio, 2)], axis=1, keys=['n_miss', 'ratio'])\n",
    "    print(missing_df, end=\"\\n\")\n",
    "\n",
    "    if na_name:\n",
    "        return na_columns\n",
    "\n",
    "\n",
    "missing_values_table(df)"
   ]
  },
  {
   "cell_type": "code",
   "execution_count": 9,
   "id": "c079b0a3",
   "metadata": {},
   "outputs": [
    {
     "name": "stdout",
     "output_type": "stream",
     "text": [
      "# BEFORE\n",
      "person_emp_length     895\n",
      "loan_int_rate        3116\n",
      "dtype: int64 \n",
      "\n",
      "\n",
      "# AFTER \n",
      " Imputation method is 'MODE' for categorical variables!\n",
      " Imputation method is 'MEDIAN' for numeric variables! \n",
      "\n",
      "person_emp_length    0\n",
      "loan_int_rate        0\n",
      "dtype: int64 \n",
      "\n",
      "\n"
     ]
    }
   ],
   "source": [
    "def quick_missing_imp(data, num_method=\"median\", cat_length=20, target=\"\"):\n",
    "    variables_with_na = [col for col in data.columns if data[col].isnull().sum() > 0]  # Eksik değere sahip olan değişkenler listelenir\n",
    "\n",
    "    temp_target = data[target]\n",
    "\n",
    "    print(\"# BEFORE\")\n",
    "    print(data[variables_with_na].isnull().sum(), \"\\n\\n\")  # Uygulama öncesi değişkenlerin eksik değerlerinin sayısı\n",
    "\n",
    "    # değişken object ve sınıf sayısı cat_lengthe eşit veya altındaysa boş değerleri mode ile doldur\n",
    "    data = data.apply(lambda x: x.fillna(x.mode()[0]) if (x.dtype == \"O\" and len(x.unique()) <= cat_length) else x, axis=0)\n",
    "\n",
    "    # num_method mean ise tipi object olmayan değişkenlerin boş değerleri ortalama ile dolduruluyor\n",
    "    if num_method == \"mean\":\n",
    "        data = data.apply(lambda x: x.fillna(x.mean()) if x.dtype != \"O\" else x, axis=0)\n",
    "    # num_method median ise tipi object olmayan değişkenlerin boş değerleri ortalama ile dolduruluyor\n",
    "    elif num_method == \"median\":\n",
    "        data = data.apply(lambda x: x.fillna(x.median()) if x.dtype != \"O\" else x, axis=0)\n",
    "\n",
    "    data[target] = temp_target\n",
    "\n",
    "    print(\"# AFTER \\n Imputation method is 'MODE' for categorical variables!\")\n",
    "    print(\" Imputation method is '\" + num_method.upper() + \"' for numeric variables! \\n\")\n",
    "    print(data[variables_with_na].isnull().sum(), \"\\n\\n\")\n",
    "\n",
    "    return data\n",
    "\n",
    "\n",
    "df = quick_missing_imp(df,target=\"loan_status\")"
   ]
  },
  {
   "cell_type": "markdown",
   "id": "974cbb72",
   "metadata": {},
   "source": [
    "#### Aykırı Değerler (Outliers)"
   ]
  },
  {
   "cell_type": "code",
   "execution_count": 10,
   "id": "b9cc19b4",
   "metadata": {},
   "outputs": [],
   "source": [
    "def remove_outliers(df, column):\n",
    "    Q1 = df[column].quantile(0.25)\n",
    "    Q3 = df[column].quantile(0.75)\n",
    "    IQR = Q3 - Q1\n",
    "    lower_bound = Q1 - 1.5 * IQR\n",
    "    upper_bound = Q3 + 1.5 * IQR\n",
    "    \n",
    "    return df[(df[column] >= lower_bound) & (df[column] <= upper_bound)]"
   ]
  },
  {
   "cell_type": "code",
   "execution_count": 11,
   "id": "56b63927",
   "metadata": {},
   "outputs": [],
   "source": [
    "num_ = [\"person_age\",\"person_emp_length\"]\n",
    "for col in num_:\n",
    "    df = remove_outliers(df,col)"
   ]
  },
  {
   "cell_type": "code",
   "execution_count": 12,
   "id": "9d10df88",
   "metadata": {},
   "outputs": [
    {
     "data": {
      "text/plain": [
       "(person_age                         1.00\n",
       " person_income                -145500.00\n",
       " person_emp_length                -16.50\n",
       " loan_amnt                     -30175.00\n",
       " loan_int_rate                     -9.36\n",
       " loan_percent_income               -0.47\n",
       " cb_person_cred_hist_length       -11.50\n",
       " dtype: float64,\n",
       " person_age                        57.00\n",
       " person_income                 303300.00\n",
       " person_emp_length                 27.50\n",
       " loan_amnt                      55625.00\n",
       " loan_int_rate                     31.68\n",
       " loan_percent_income                0.89\n",
       " cb_person_cred_hist_length        24.50\n",
       " dtype: float64)"
      ]
     },
     "execution_count": 12,
     "metadata": {},
     "output_type": "execute_result"
    }
   ],
   "source": [
    "def outlier_thresholds(dataframe, col_name, q1=0.25, q3=0.75):\n",
    "    quartile1 = dataframe[col_name].quantile(q1)\n",
    "    quartile3 = dataframe[col_name].quantile(q3)\n",
    "    interquantile_range = quartile3 - quartile1\n",
    "    up_limit = quartile3 + 1.5 * interquantile_range\n",
    "    low_limit = quartile1 - 1.5 * interquantile_range\n",
    "    return low_limit, up_limit\n",
    "\n",
    "outlier_thresholds(df,num_cols,q1=0.05,q3=0.95)"
   ]
  },
  {
   "cell_type": "code",
   "execution_count": 13,
   "id": "d2be3733",
   "metadata": {},
   "outputs": [
    {
     "name": "stdout",
     "output_type": "stream",
     "text": [
      "person_age False\n",
      "person_income True\n",
      "person_emp_length False\n",
      "loan_amnt False\n",
      "loan_int_rate False\n",
      "loan_percent_income False\n",
      "cb_person_cred_hist_length False\n"
     ]
    }
   ],
   "source": [
    "def check_outlier(dataframe, col_name, q1=0.25, q3=0.75):\n",
    "    low_limit, up_limit = outlier_thresholds(dataframe, col_name, q1, q3)\n",
    "    if dataframe[(dataframe[col_name] > up_limit) | (dataframe[col_name] < low_limit)].any(axis=None):\n",
    "        return True\n",
    "    else:\n",
    "        return False\n",
    "    \n",
    "def replace_with_thresholds(dataframe, variable, q1=0.25, q3=0.75):\n",
    "    low_limit, up_limit = outlier_thresholds(dataframe, variable, q1, q3)\n",
    "    dataframe.loc[(dataframe[variable] < low_limit), variable] = low_limit\n",
    "    dataframe.loc[(dataframe[variable] > up_limit), variable] = up_limit\n",
    "\n",
    "\n",
    "for col in num_cols:\n",
    "    print(col,check_outlier(df,col,q1=0.05,q3=0.95))\n",
    "    if check_outlier(df, col,q1=0.05,q3=0.95):\n",
    "        replace_with_thresholds(df, col,q1=0.05,q3=0.95)"
   ]
  },
  {
   "cell_type": "code",
   "execution_count": 14,
   "id": "b95f1744",
   "metadata": {},
   "outputs": [
    {
     "data": {
      "text/html": [
       "<div>\n",
       "<style scoped>\n",
       "    .dataframe tbody tr th:only-of-type {\n",
       "        vertical-align: middle;\n",
       "    }\n",
       "\n",
       "    .dataframe tbody tr th {\n",
       "        vertical-align: top;\n",
       "    }\n",
       "\n",
       "    .dataframe thead th {\n",
       "        text-align: right;\n",
       "    }\n",
       "</style>\n",
       "<table border=\"1\" class=\"dataframe\">\n",
       "  <thead>\n",
       "    <tr style=\"text-align: right;\">\n",
       "      <th></th>\n",
       "      <th>count</th>\n",
       "      <th>mean</th>\n",
       "      <th>std</th>\n",
       "      <th>min</th>\n",
       "      <th>25%</th>\n",
       "      <th>50%</th>\n",
       "      <th>75%</th>\n",
       "      <th>max</th>\n",
       "    </tr>\n",
       "  </thead>\n",
       "  <tbody>\n",
       "    <tr>\n",
       "      <th>person_age</th>\n",
       "      <td>30392.0</td>\n",
       "      <td>26.647111</td>\n",
       "      <td>4.425236</td>\n",
       "      <td>20.00</td>\n",
       "      <td>23.00</td>\n",
       "      <td>25.00</td>\n",
       "      <td>29.00</td>\n",
       "      <td>40.00</td>\n",
       "    </tr>\n",
       "    <tr>\n",
       "      <th>person_income</th>\n",
       "      <td>30392.0</td>\n",
       "      <td>63985.023756</td>\n",
       "      <td>39282.644131</td>\n",
       "      <td>4080.00</td>\n",
       "      <td>38238.00</td>\n",
       "      <td>55000.00</td>\n",
       "      <td>78000.00</td>\n",
       "      <td>303300.00</td>\n",
       "    </tr>\n",
       "    <tr>\n",
       "      <th>person_emp_length</th>\n",
       "      <td>30392.0</td>\n",
       "      <td>4.417643</td>\n",
       "      <td>3.380452</td>\n",
       "      <td>0.00</td>\n",
       "      <td>2.00</td>\n",
       "      <td>4.00</td>\n",
       "      <td>7.00</td>\n",
       "      <td>14.00</td>\n",
       "    </tr>\n",
       "    <tr>\n",
       "      <th>loan_amnt</th>\n",
       "      <td>30392.0</td>\n",
       "      <td>9534.317419</td>\n",
       "      <td>6279.474453</td>\n",
       "      <td>500.00</td>\n",
       "      <td>5000.00</td>\n",
       "      <td>8000.00</td>\n",
       "      <td>12000.00</td>\n",
       "      <td>35000.00</td>\n",
       "    </tr>\n",
       "    <tr>\n",
       "      <th>loan_int_rate</th>\n",
       "      <td>30392.0</td>\n",
       "      <td>11.017091</td>\n",
       "      <td>3.077190</td>\n",
       "      <td>5.42</td>\n",
       "      <td>8.49</td>\n",
       "      <td>10.99</td>\n",
       "      <td>13.11</td>\n",
       "      <td>23.22</td>\n",
       "    </tr>\n",
       "    <tr>\n",
       "      <th>loan_status</th>\n",
       "      <td>30392.0</td>\n",
       "      <td>0.219564</td>\n",
       "      <td>0.413958</td>\n",
       "      <td>0.00</td>\n",
       "      <td>0.00</td>\n",
       "      <td>0.00</td>\n",
       "      <td>0.00</td>\n",
       "      <td>1.00</td>\n",
       "    </tr>\n",
       "    <tr>\n",
       "      <th>loan_percent_income</th>\n",
       "      <td>30392.0</td>\n",
       "      <td>0.170933</td>\n",
       "      <td>0.106805</td>\n",
       "      <td>0.00</td>\n",
       "      <td>0.09</td>\n",
       "      <td>0.15</td>\n",
       "      <td>0.23</td>\n",
       "      <td>0.83</td>\n",
       "    </tr>\n",
       "    <tr>\n",
       "      <th>cb_person_cred_hist_length</th>\n",
       "      <td>30392.0</td>\n",
       "      <td>5.229534</td>\n",
       "      <td>3.282588</td>\n",
       "      <td>2.00</td>\n",
       "      <td>3.00</td>\n",
       "      <td>4.00</td>\n",
       "      <td>7.00</td>\n",
       "      <td>17.00</td>\n",
       "    </tr>\n",
       "  </tbody>\n",
       "</table>\n",
       "</div>"
      ],
      "text/plain": [
       "                              count          mean           std      min  \\\n",
       "person_age                  30392.0     26.647111      4.425236    20.00   \n",
       "person_income               30392.0  63985.023756  39282.644131  4080.00   \n",
       "person_emp_length           30392.0      4.417643      3.380452     0.00   \n",
       "loan_amnt                   30392.0   9534.317419   6279.474453   500.00   \n",
       "loan_int_rate               30392.0     11.017091      3.077190     5.42   \n",
       "loan_status                 30392.0      0.219564      0.413958     0.00   \n",
       "loan_percent_income         30392.0      0.170933      0.106805     0.00   \n",
       "cb_person_cred_hist_length  30392.0      5.229534      3.282588     2.00   \n",
       "\n",
       "                                 25%       50%       75%        max  \n",
       "person_age                     23.00     25.00     29.00      40.00  \n",
       "person_income               38238.00  55000.00  78000.00  303300.00  \n",
       "person_emp_length               2.00      4.00      7.00      14.00  \n",
       "loan_amnt                    5000.00   8000.00  12000.00   35000.00  \n",
       "loan_int_rate                   8.49     10.99     13.11      23.22  \n",
       "loan_status                     0.00      0.00      0.00       1.00  \n",
       "loan_percent_income             0.09      0.15      0.23       0.83  \n",
       "cb_person_cred_hist_length      3.00      4.00      7.00      17.00  "
      ]
     },
     "execution_count": 14,
     "metadata": {},
     "output_type": "execute_result"
    }
   ],
   "source": [
    "df.describe().T"
   ]
  },
  {
   "cell_type": "markdown",
   "id": "7f3eccd9",
   "metadata": {},
   "source": [
    "#### Dengesiz Veri Seti (Imbalanced Datasets)"
   ]
  },
  {
   "cell_type": "code",
   "execution_count": 15,
   "id": "5b15897b",
   "metadata": {
    "scrolled": false
   },
   "outputs": [
    {
     "name": "stderr",
     "output_type": "stream",
     "text": [
      "C:\\Users\\seyma\\anaconda3\\lib\\site-packages\\seaborn\\_decorators.py:36: FutureWarning: Pass the following variable as a keyword arg: x. From version 0.12, the only valid positional argument will be `data`, and passing other arguments without an explicit keyword will result in an error or misinterpretation.\n",
      "  warnings.warn(\n"
     ]
    },
    {
     "data": {
      "image/png": "[encoded data removed]",
      "text/plain": [
       "<Figure size 1800x800 with 2 Axes>"
      ]
     },
     "metadata": {},
     "output_type": "display_data"
    }
   ],
   "source": [
    "f,ax=plt.subplots(1,2,figsize=(18,8))\n",
    "df.loan_status.value_counts().plot.pie(explode=[0,0.1],autopct='%1.1f%%',ax=ax[0],shadow=True,fontsize=10,colors=[\"#DBBDBC\",\"#C0C7D4\"])\n",
    "ax[0].set_title('Dağılım', fontsize=12, weight='normal')\n",
    "ax[0].set_ylabel('')\n",
    "sns.countplot('loan_status',data=df,ax=ax[1],palette=\"vlag_r\")\n",
    "ax[1].set_title('Temerrüde düşüp düşmeme durumu', fontsize=12, weight='normal')\n",
    "ax[1].set_xlabel('loan_status', fontsize=10)\n",
    "ax[1].set_ylabel('', fontsize=10)\n",
    "ax[1].tick_params(axis='x', labelsize=10)\n",
    "ax[1].tick_params(axis='y', labelsize=10)\n",
    "plt.show()"
   ]
  },
  {
   "cell_type": "markdown",
   "id": "881d6ce7",
   "metadata": {},
   "source": [
    "#### Veri Analizi (Data Analysis)"
   ]
  },
  {
   "cell_type": "code",
   "execution_count": 16,
   "id": "13d51847",
   "metadata": {},
   "outputs": [
    {
     "data": {
      "text/plain": [
       "Index(['person_age', 'person_income', 'person_home_ownership',\n",
       "       'person_emp_length', 'loan_intent', 'loan_grade', 'loan_amnt',\n",
       "       'loan_int_rate', 'loan_status', 'loan_percent_income',\n",
       "       'cb_person_default_on_file', 'cb_person_cred_hist_length'],\n",
       "      dtype='object')"
      ]
     },
     "execution_count": 16,
     "metadata": {},
     "output_type": "execute_result"
    }
   ],
   "source": [
    "df.columns"
   ]
  },
  {
   "cell_type": "code",
   "execution_count": 17,
   "id": "de84bdd6",
   "metadata": {},
   "outputs": [],
   "source": [
    "chart1_tbl = df.groupby(\"loan_intent\")[[\"loan_amnt\"]].mean().reset_index()"
   ]
  },
  {
   "cell_type": "code",
   "execution_count": 18,
   "id": "ece7373b",
   "metadata": {},
   "outputs": [
    {
     "data": {
      "image/png": "[encoded data removed]",
      "text/plain": [
       "<Figure size 640x480 with 1 Axes>"
      ]
     },
     "metadata": {},
     "output_type": "display_data"
    }
   ],
   "source": [
    "csb = sns.barplot(y=\"loan_intent\",x=\"loan_amnt\",data=chart1_tbl,palette=\"crest_r\")\n",
    "\n",
    "plt.xlabel(\"Ortalama çekilen kredi miktarı\", fontsize=12, weight='normal')\n",
    "plt.ylabel(\"Kredinin ne amaçla çekildiği\", fontsize=12, weight='normal')\n",
    "plt.title(\"Kredilerin çekilme amacına göre ortalama miktarları\", fontsize=14, weight='normal')\n",
    "csb.set_yticklabels([\"borç konsolidasyonu\", \"eğitim\", \"ev geliştirme\", \"tıbbi\", \"kişisel\", \"girişim\"], fontsize=10, weight='normal')\n",
    "plt.xticks(fontsize=10,weight='normal')\n",
    "plt.show()"
   ]
  },
  {
   "cell_type": "code",
   "execution_count": 19,
   "id": "888ce5e4",
   "metadata": {},
   "outputs": [],
   "source": [
    "bins = [0,25, 30, 35, 40]\n",
    "labels = ['0-25', '26-30', '31-35', '36-40']\n",
    "\n",
    "df['person_age_cat'] = pd.cut(df['person_age'], bins=bins, labels=labels)"
   ]
  },
  {
   "cell_type": "code",
   "execution_count": 20,
   "id": "fabf1104",
   "metadata": {},
   "outputs": [],
   "source": [
    "df[\"total_pay_back\"] = df.loan_amnt + (df.loan_amnt*(df.loan_int_rate/100))"
   ]
  },
  {
   "cell_type": "code",
   "execution_count": 21,
   "id": "0bd30ec7",
   "metadata": {},
   "outputs": [],
   "source": [
    "bins = [0,500, 5000, 8000, 12000 ,35000]\n",
    "labels = ['0-500', '501-5000', '5001-8000', '8001-12000',\"12001-35000\"]\n",
    "\n",
    "df['loan_amnt_cat'] = pd.cut(df['loan_amnt'], bins=bins, labels=labels)"
   ]
  },
  {
   "cell_type": "code",
   "execution_count": 22,
   "id": "d7b1b166",
   "metadata": {},
   "outputs": [
    {
     "data": {
      "text/html": [
       "<div>\n",
       "<style scoped>\n",
       "    .dataframe tbody tr th:only-of-type {\n",
       "        vertical-align: middle;\n",
       "    }\n",
       "\n",
       "    .dataframe tbody tr th {\n",
       "        vertical-align: top;\n",
       "    }\n",
       "\n",
       "    .dataframe thead th {\n",
       "        text-align: right;\n",
       "    }\n",
       "</style>\n",
       "<table border=\"1\" class=\"dataframe\">\n",
       "  <thead>\n",
       "    <tr style=\"text-align: right;\">\n",
       "      <th></th>\n",
       "      <th>loan_amnt_cat</th>\n",
       "      <th>total_pay_back</th>\n",
       "    </tr>\n",
       "  </thead>\n",
       "  <tbody>\n",
       "    <tr>\n",
       "      <th>0</th>\n",
       "      <td>0-500</td>\n",
       "      <td>553.330000</td>\n",
       "    </tr>\n",
       "    <tr>\n",
       "      <th>1</th>\n",
       "      <td>501-5000</td>\n",
       "      <td>3852.634640</td>\n",
       "    </tr>\n",
       "    <tr>\n",
       "      <th>2</th>\n",
       "      <td>5001-8000</td>\n",
       "      <td>7495.653421</td>\n",
       "    </tr>\n",
       "    <tr>\n",
       "      <th>3</th>\n",
       "      <td>8001-12000</td>\n",
       "      <td>11458.153733</td>\n",
       "    </tr>\n",
       "    <tr>\n",
       "      <th>4</th>\n",
       "      <td>12001-35000</td>\n",
       "      <td>20637.801271</td>\n",
       "    </tr>\n",
       "  </tbody>\n",
       "</table>\n",
       "</div>"
      ],
      "text/plain": [
       "  loan_amnt_cat  total_pay_back\n",
       "0         0-500      553.330000\n",
       "1      501-5000     3852.634640\n",
       "2     5001-8000     7495.653421\n",
       "3    8001-12000    11458.153733\n",
       "4   12001-35000    20637.801271"
      ]
     },
     "execution_count": 22,
     "metadata": {},
     "output_type": "execute_result"
    }
   ],
   "source": [
    "df.groupby([\"loan_amnt_cat\"])[[\"total_pay_back\"]].mean().reset_index()"
   ]
  },
  {
   "cell_type": "code",
   "execution_count": 23,
   "id": "3057a8da",
   "metadata": {},
   "outputs": [],
   "source": [
    "chart2_tbl = df.groupby([\"loan_amnt_cat\"])[[\"person_income\"]].mean().reset_index()"
   ]
  },
  {
   "cell_type": "code",
   "execution_count": 24,
   "id": "45eeea25",
   "metadata": {},
   "outputs": [
    {
     "data": {
      "text/html": [
       "<div>\n",
       "<style scoped>\n",
       "    .dataframe tbody tr th:only-of-type {\n",
       "        vertical-align: middle;\n",
       "    }\n",
       "\n",
       "    .dataframe tbody tr th {\n",
       "        vertical-align: top;\n",
       "    }\n",
       "\n",
       "    .dataframe thead th {\n",
       "        text-align: right;\n",
       "    }\n",
       "</style>\n",
       "<table border=\"1\" class=\"dataframe\">\n",
       "  <thead>\n",
       "    <tr style=\"text-align: right;\">\n",
       "      <th></th>\n",
       "      <th>loan_amnt_cat</th>\n",
       "      <th>person_income</th>\n",
       "    </tr>\n",
       "  </thead>\n",
       "  <tbody>\n",
       "    <tr>\n",
       "      <th>0</th>\n",
       "      <td>0-500</td>\n",
       "      <td>26080.800000</td>\n",
       "    </tr>\n",
       "    <tr>\n",
       "      <th>1</th>\n",
       "      <td>501-5000</td>\n",
       "      <td>49829.503924</td>\n",
       "    </tr>\n",
       "    <tr>\n",
       "      <th>2</th>\n",
       "      <td>5001-8000</td>\n",
       "      <td>57449.590339</td>\n",
       "    </tr>\n",
       "    <tr>\n",
       "      <th>3</th>\n",
       "      <td>8001-12000</td>\n",
       "      <td>65554.282095</td>\n",
       "    </tr>\n",
       "    <tr>\n",
       "      <th>4</th>\n",
       "      <td>12001-35000</td>\n",
       "      <td>85197.041987</td>\n",
       "    </tr>\n",
       "  </tbody>\n",
       "</table>\n",
       "</div>"
      ],
      "text/plain": [
       "  loan_amnt_cat  person_income\n",
       "0         0-500   26080.800000\n",
       "1      501-5000   49829.503924\n",
       "2     5001-8000   57449.590339\n",
       "3    8001-12000   65554.282095\n",
       "4   12001-35000   85197.041987"
      ]
     },
     "execution_count": 24,
     "metadata": {},
     "output_type": "execute_result"
    }
   ],
   "source": [
    "chart2_tbl"
   ]
  },
  {
   "cell_type": "code",
   "execution_count": 25,
   "id": "7fb6d294",
   "metadata": {},
   "outputs": [
    {
     "data": {
      "image/png": "[encoded data removed]",
      "text/plain": [
       "<Figure size 640x480 with 1 Axes>"
      ]
     },
     "metadata": {},
     "output_type": "display_data"
    }
   ],
   "source": [
    "sns.barplot(x=\"loan_amnt_cat\",y=\"person_income\",data=chart2_tbl)\n",
    "\n",
    "plt.xlabel(\"Kredi miktarı aralıkları\",fontsize=12, weight='normal')\n",
    "plt.ylabel(\"Ortalama yıllık gelir\", fontsize=12, weight='normal')\n",
    "plt.title(\"Çekilen kredi miktar aralığına göre ortalama yıllık gelir\", fontsize=14, weight='normal')\n",
    "plt.xticks(fontsize=9,weight=\"normal\")\n",
    "plt.yticks(fontsize=9,weight=\"normal\")\n",
    "plt.show()"
   ]
  },
  {
   "cell_type": "code",
   "execution_count": 26,
   "id": "a1d8ddb6",
   "metadata": {},
   "outputs": [
    {
     "name": "stderr",
     "output_type": "stream",
     "text": [
      "C:\\Users\\seyma\\AppData\\Local\\Temp\\ipykernel_9196\\573462431.py:5: UserWarning: FixedFormatter should only be used together with FixedLocator\n",
      "  csh.set_xticklabels([\"kendi\",\"ipotek\",\"kira\",\"diğer\"], fontsize=10, weight='normal')\n"
     ]
    },
    {
     "data": {
      "image/png": "[encoded data removed]",
      "text/plain": [
       "<Figure size 640x480 with 1 Axes>"
      ]
     },
     "metadata": {},
     "output_type": "display_data"
    }
   ],
   "source": [
    "csh = sns.histplot(df.person_home_ownership,color=\"#8db699\")\n",
    "plt.xlabel(\"Ev sahipliği durumu\",fontsize=12, weight='normal')\n",
    "plt.ylabel(\"Frekans\",fontsize=12, weight='normal')\n",
    "plt.title(\"Ev sahipliği durumuna göre kişi sayısı\",fontsize=14, weight='normal')\n",
    "csh.set_xticklabels([\"kendi\",\"ipotek\",\"kira\",\"diğer\"], fontsize=10, weight='normal')\n",
    "plt.yticks(fontsize=10,weight='normal')\n",
    "plt.show()"
   ]
  },
  {
   "cell_type": "code",
   "execution_count": 27,
   "id": "e7d98011",
   "metadata": {},
   "outputs": [
    {
     "data": {
      "text/html": [
       "<div>\n",
       "<style scoped>\n",
       "    .dataframe tbody tr th:only-of-type {\n",
       "        vertical-align: middle;\n",
       "    }\n",
       "\n",
       "    .dataframe tbody tr th {\n",
       "        vertical-align: top;\n",
       "    }\n",
       "\n",
       "    .dataframe thead th {\n",
       "        text-align: right;\n",
       "    }\n",
       "</style>\n",
       "<table border=\"1\" class=\"dataframe\">\n",
       "  <thead>\n",
       "    <tr style=\"text-align: right;\">\n",
       "      <th></th>\n",
       "      <th>loan_grade</th>\n",
       "      <th>loan_amnt</th>\n",
       "    </tr>\n",
       "  </thead>\n",
       "  <tbody>\n",
       "    <tr>\n",
       "      <th>0</th>\n",
       "      <td>A</td>\n",
       "      <td>8511.744464</td>\n",
       "    </tr>\n",
       "    <tr>\n",
       "      <th>1</th>\n",
       "      <td>B</td>\n",
       "      <td>9918.636131</td>\n",
       "    </tr>\n",
       "    <tr>\n",
       "      <th>2</th>\n",
       "      <td>C</td>\n",
       "      <td>9201.356269</td>\n",
       "    </tr>\n",
       "    <tr>\n",
       "      <th>3</th>\n",
       "      <td>D</td>\n",
       "      <td>10737.496285</td>\n",
       "    </tr>\n",
       "    <tr>\n",
       "      <th>4</th>\n",
       "      <td>E</td>\n",
       "      <td>12734.668508</td>\n",
       "    </tr>\n",
       "    <tr>\n",
       "      <th>5</th>\n",
       "      <td>F</td>\n",
       "      <td>14556.900452</td>\n",
       "    </tr>\n",
       "    <tr>\n",
       "      <th>6</th>\n",
       "      <td>G</td>\n",
       "      <td>17256.355932</td>\n",
       "    </tr>\n",
       "  </tbody>\n",
       "</table>\n",
       "</div>"
      ],
      "text/plain": [
       "  loan_grade     loan_amnt\n",
       "0          A   8511.744464\n",
       "1          B   9918.636131\n",
       "2          C   9201.356269\n",
       "3          D  10737.496285\n",
       "4          E  12734.668508\n",
       "5          F  14556.900452\n",
       "6          G  17256.355932"
      ]
     },
     "execution_count": 27,
     "metadata": {},
     "output_type": "execute_result"
    }
   ],
   "source": [
    "chart3_tbl = df.groupby([\"loan_grade\"])[[\"loan_amnt\"]].mean().reset_index()\n",
    "chart3_tbl"
   ]
  },
  {
   "cell_type": "code",
   "execution_count": 28,
   "id": "6a580901",
   "metadata": {},
   "outputs": [
    {
     "data": {
      "image/png": "[encoded data removed]",
      "text/plain": [
       "<Figure size 640x480 with 1 Axes>"
      ]
     },
     "metadata": {},
     "output_type": "display_data"
    }
   ],
   "source": [
    "sns.barplot(x=\"loan_grade\",y=\"loan_amnt\",data=chart3_tbl,color=\"#e87eaa\")\n",
    "plt.xlabel(\"Kredi notu\",fontsize=12, weight='normal')\n",
    "plt.ylabel(\"Çekilen kredi miktarı ortalaması\",fontsize=12, weight='normal')\n",
    "plt.title(\"Kredi notuna göre çekilen kredi ortalaması\",fontsize=14, weight='normal')\n",
    "plt.xticks(fontsize=10,weight='normal')\n",
    "plt.yticks(fontsize=10,weight='normal')\n",
    "plt.show()"
   ]
  },
  {
   "cell_type": "code",
   "execution_count": 29,
   "id": "be923d2f",
   "metadata": {},
   "outputs": [
    {
     "data": {
      "text/html": [
       "<div>\n",
       "<style scoped>\n",
       "    .dataframe tbody tr th:only-of-type {\n",
       "        vertical-align: middle;\n",
       "    }\n",
       "\n",
       "    .dataframe tbody tr th {\n",
       "        vertical-align: top;\n",
       "    }\n",
       "\n",
       "    .dataframe thead th {\n",
       "        text-align: right;\n",
       "    }\n",
       "</style>\n",
       "<table border=\"1\" class=\"dataframe\">\n",
       "  <thead>\n",
       "    <tr style=\"text-align: right;\">\n",
       "      <th></th>\n",
       "      <th>loan_grade</th>\n",
       "      <th>loan_int_rate</th>\n",
       "    </tr>\n",
       "  </thead>\n",
       "  <tbody>\n",
       "    <tr>\n",
       "      <th>0</th>\n",
       "      <td>A</td>\n",
       "      <td>7.675307</td>\n",
       "    </tr>\n",
       "    <tr>\n",
       "      <th>1</th>\n",
       "      <td>B</td>\n",
       "      <td>10.997822</td>\n",
       "    </tr>\n",
       "    <tr>\n",
       "      <th>2</th>\n",
       "      <td>C</td>\n",
       "      <td>13.232337</td>\n",
       "    </tr>\n",
       "    <tr>\n",
       "      <th>3</th>\n",
       "      <td>D</td>\n",
       "      <td>14.984437</td>\n",
       "    </tr>\n",
       "    <tr>\n",
       "      <th>4</th>\n",
       "      <td>E</td>\n",
       "      <td>16.474000</td>\n",
       "    </tr>\n",
       "    <tr>\n",
       "      <th>5</th>\n",
       "      <td>F</td>\n",
       "      <td>17.783575</td>\n",
       "    </tr>\n",
       "    <tr>\n",
       "      <th>6</th>\n",
       "      <td>G</td>\n",
       "      <td>19.756102</td>\n",
       "    </tr>\n",
       "  </tbody>\n",
       "</table>\n",
       "</div>"
      ],
      "text/plain": [
       "  loan_grade  loan_int_rate\n",
       "0          A       7.675307\n",
       "1          B      10.997822\n",
       "2          C      13.232337\n",
       "3          D      14.984437\n",
       "4          E      16.474000\n",
       "5          F      17.783575\n",
       "6          G      19.756102"
      ]
     },
     "execution_count": 29,
     "metadata": {},
     "output_type": "execute_result"
    }
   ],
   "source": [
    "chart4_tbl = df.groupby([\"loan_grade\"])[[\"loan_int_rate\"]].mean().reset_index()\n",
    "chart4_tbl"
   ]
  },
  {
   "cell_type": "code",
   "execution_count": 30,
   "id": "287a960c",
   "metadata": {},
   "outputs": [
    {
     "data": {
      "image/png": "[encoded data removed]",
      "text/plain": [
       "<Figure size 640x480 with 1 Axes>"
      ]
     },
     "metadata": {},
     "output_type": "display_data"
    }
   ],
   "source": [
    "sns.lineplot(x=\"loan_grade\",y=\"loan_int_rate\",data=chart4_tbl,color=\"#6834e2\")\n",
    "plt.xlabel(\"Kredi notu\",fontsize=12, weight='normal')\n",
    "plt.ylabel(\"Ortalama faiz oranı\",fontsize=12, weight='normal')\n",
    "plt.title(\"Kredi notuna göre uygulanan faiz oranı ortalaması\",fontsize=12, weight='normal')\n",
    "plt.xticks(fontsize=10,weight='normal')\n",
    "plt.yticks(fontsize=10,weight='normal')\n",
    "plt.show()"
   ]
  },
  {
   "cell_type": "code",
   "execution_count": 31,
   "id": "20c7708c",
   "metadata": {},
   "outputs": [
    {
     "data": {
      "text/html": [
       "<div>\n",
       "<style scoped>\n",
       "    .dataframe tbody tr th:only-of-type {\n",
       "        vertical-align: middle;\n",
       "    }\n",
       "\n",
       "    .dataframe tbody tr th {\n",
       "        vertical-align: top;\n",
       "    }\n",
       "\n",
       "    .dataframe thead th {\n",
       "        text-align: right;\n",
       "    }\n",
       "</style>\n",
       "<table border=\"1\" class=\"dataframe\">\n",
       "  <thead>\n",
       "    <tr style=\"text-align: right;\">\n",
       "      <th></th>\n",
       "      <th>person_age_cat</th>\n",
       "      <th>person_emp_length</th>\n",
       "    </tr>\n",
       "  </thead>\n",
       "  <tbody>\n",
       "    <tr>\n",
       "      <th>0</th>\n",
       "      <td>0-25</td>\n",
       "      <td>4.031987</td>\n",
       "    </tr>\n",
       "    <tr>\n",
       "      <th>1</th>\n",
       "      <td>26-30</td>\n",
       "      <td>5.120330</td>\n",
       "    </tr>\n",
       "    <tr>\n",
       "      <th>2</th>\n",
       "      <td>31-35</td>\n",
       "      <td>4.277068</td>\n",
       "    </tr>\n",
       "    <tr>\n",
       "      <th>3</th>\n",
       "      <td>36-40</td>\n",
       "      <td>4.314773</td>\n",
       "    </tr>\n",
       "  </tbody>\n",
       "</table>\n",
       "</div>"
      ],
      "text/plain": [
       "  person_age_cat  person_emp_length\n",
       "0           0-25           4.031987\n",
       "1          26-30           5.120330\n",
       "2          31-35           4.277068\n",
       "3          36-40           4.314773"
      ]
     },
     "execution_count": 31,
     "metadata": {},
     "output_type": "execute_result"
    }
   ],
   "source": [
    "chart5_tbl = df.groupby([\"person_age_cat\"])[[\"person_emp_length\"]].mean().reset_index()\n",
    "chart5_tbl"
   ]
  },
  {
   "cell_type": "code",
   "execution_count": 32,
   "id": "7c4c5aac",
   "metadata": {},
   "outputs": [
    {
     "data": {
      "image/png": "[encoded data removed]",
      "text/plain": [
       "<Figure size 640x480 with 1 Axes>"
      ]
     },
     "metadata": {},
     "output_type": "display_data"
    }
   ],
   "source": [
    "sns.barplot(x=\"person_age_cat\",y=\"person_emp_length\",data=chart5_tbl,color=\"#f6ac50\")\n",
    "plt.xlabel(\"Yaş aralığı\",fontsize=12, weight='normal')\n",
    "plt.ylabel(\"Yıllık olarak çalışılan süre ortalaması\",fontsize=12, weight='normal')\n",
    "plt.title(\"Yaşa göre yıllık olarak ortalama çalışılan süre\",fontsize=12, weight='normal')\n",
    "plt.xticks(fontsize=10,weight='normal')\n",
    "plt.yticks(fontsize=10,weight='normal')\n",
    "plt.show()"
   ]
  },
  {
   "cell_type": "code",
   "execution_count": 33,
   "id": "3bc4feed",
   "metadata": {},
   "outputs": [],
   "source": [
    "df_copy = df.copy()"
   ]
  },
  {
   "cell_type": "markdown",
   "id": "24b6dddb",
   "metadata": {},
   "source": [
    "##### Encoding"
   ]
  },
  {
   "cell_type": "code",
   "execution_count": 37,
   "id": "0b9cd681",
   "metadata": {},
   "outputs": [],
   "source": [
    "def label_encoder(dataframe, binary_col):\n",
    "    labelencoder = LabelEncoder()\n",
    "    dataframe[binary_col] = labelencoder.fit_transform(dataframe[binary_col])\n",
    "    return dataframe\n",
    "\n",
    "binary_cols = [col for col in df_copy.columns if df_copy[col].dtypes == \"O\" and df_copy[col].nunique() == 2]\n",
    "\n",
    "for col in binary_cols:\n",
    "    if col != \"loan_status\":\n",
    "        df_copy=label_encoder(df_copy,col)"
   ]
  },
  {
   "cell_type": "code",
   "execution_count": 38,
   "id": "ed36b47f",
   "metadata": {},
   "outputs": [],
   "source": [
    "def one_hot_encoder(dataframe, categorical_cols, drop_first=False):\n",
    "    dataframe = pd.get_dummies(dataframe, columns=categorical_cols, drop_first=drop_first)\n",
    "    return dataframe\n",
    "\n",
    "ohe_cols = [col for col in df_copy.columns if 10 >= df_copy[col].nunique() > 2]\n",
    "\n",
    "df_copy = one_hot_encoder(df_copy, ohe_cols, drop_first=True)"
   ]
  },
  {
   "cell_type": "markdown",
   "id": "ac029415",
   "metadata": {},
   "source": [
    "##### MODEL"
   ]
  },
  {
   "cell_type": "code",
   "execution_count": 39,
   "id": "72e02db8",
   "metadata": {},
   "outputs": [],
   "source": [
    "from sklearn.model_selection import train_test_split\n",
    "from sklearn.preprocessing import StandardScaler,RobustScaler\n",
    "from sklearn.ensemble import RandomForestClassifier, GradientBoostingClassifier\n",
    "from sklearn.model_selection import GridSearchCV, cross_validate, RandomizedSearchCV, validation_curve\n",
    "from sklearn.neighbors import KNeighborsClassifier\n",
    "from sklearn.tree import DecisionTreeClassifier\n",
    "from sklearn.linear_model import LogisticRegression\n",
    "from xgboost import XGBClassifier\n",
    "from lightgbm import LGBMClassifier\n",
    "from catboost import CatBoostClassifier\n",
    "from sklearn.pipeline import Pipeline"
   ]
  },
  {
   "cell_type": "code",
   "execution_count": 40,
   "id": "6255929c",
   "metadata": {},
   "outputs": [],
   "source": [
    "X = df_copy.drop([\"loan_status\"], axis=1)\n",
    "y = df_copy[\"loan_status\"]\n",
    "\n",
    "X_train, X_test, y_train, y_test = train_test_split(X, y, test_size=0.2,random_state = 17)"
   ]
  },
  {
   "cell_type": "code",
   "execution_count": 41,
   "id": "69a232ff",
   "metadata": {},
   "outputs": [
    {
     "data": {
      "text/html": [
       "<div>\n",
       "<style scoped>\n",
       "    .dataframe tbody tr th:only-of-type {\n",
       "        vertical-align: middle;\n",
       "    }\n",
       "\n",
       "    .dataframe tbody tr th {\n",
       "        vertical-align: top;\n",
       "    }\n",
       "\n",
       "    .dataframe thead th {\n",
       "        text-align: right;\n",
       "    }\n",
       "</style>\n",
       "<table border=\"1\" class=\"dataframe\">\n",
       "  <thead>\n",
       "    <tr style=\"text-align: right;\">\n",
       "      <th></th>\n",
       "      <th>person_age</th>\n",
       "      <th>person_income</th>\n",
       "      <th>person_emp_length</th>\n",
       "      <th>loan_amnt</th>\n",
       "      <th>loan_int_rate</th>\n",
       "      <th>loan_status</th>\n",
       "      <th>loan_percent_income</th>\n",
       "      <th>cb_person_default_on_file</th>\n",
       "      <th>cb_person_cred_hist_length</th>\n",
       "      <th>total_pay_back</th>\n",
       "      <th>...</th>\n",
       "      <th>loan_grade_E</th>\n",
       "      <th>loan_grade_F</th>\n",
       "      <th>loan_grade_G</th>\n",
       "      <th>person_age_cat_26-30</th>\n",
       "      <th>person_age_cat_31-35</th>\n",
       "      <th>person_age_cat_36-40</th>\n",
       "      <th>loan_amnt_cat_501-5000</th>\n",
       "      <th>loan_amnt_cat_5001-8000</th>\n",
       "      <th>loan_amnt_cat_8001-12000</th>\n",
       "      <th>loan_amnt_cat_12001-35000</th>\n",
       "    </tr>\n",
       "  </thead>\n",
       "  <tbody>\n",
       "    <tr>\n",
       "      <th>1</th>\n",
       "      <td>21</td>\n",
       "      <td>9600</td>\n",
       "      <td>5.0</td>\n",
       "      <td>1000</td>\n",
       "      <td>11.14</td>\n",
       "      <td>0</td>\n",
       "      <td>0.10</td>\n",
       "      <td>0</td>\n",
       "      <td>2</td>\n",
       "      <td>1111.40</td>\n",
       "      <td>...</td>\n",
       "      <td>0</td>\n",
       "      <td>0</td>\n",
       "      <td>0</td>\n",
       "      <td>0</td>\n",
       "      <td>0</td>\n",
       "      <td>0</td>\n",
       "      <td>1</td>\n",
       "      <td>0</td>\n",
       "      <td>0</td>\n",
       "      <td>0</td>\n",
       "    </tr>\n",
       "    <tr>\n",
       "      <th>2</th>\n",
       "      <td>25</td>\n",
       "      <td>9600</td>\n",
       "      <td>1.0</td>\n",
       "      <td>5500</td>\n",
       "      <td>12.87</td>\n",
       "      <td>1</td>\n",
       "      <td>0.57</td>\n",
       "      <td>0</td>\n",
       "      <td>3</td>\n",
       "      <td>6207.85</td>\n",
       "      <td>...</td>\n",
       "      <td>0</td>\n",
       "      <td>0</td>\n",
       "      <td>0</td>\n",
       "      <td>0</td>\n",
       "      <td>0</td>\n",
       "      <td>0</td>\n",
       "      <td>0</td>\n",
       "      <td>1</td>\n",
       "      <td>0</td>\n",
       "      <td>0</td>\n",
       "    </tr>\n",
       "    <tr>\n",
       "      <th>3</th>\n",
       "      <td>23</td>\n",
       "      <td>65500</td>\n",
       "      <td>4.0</td>\n",
       "      <td>35000</td>\n",
       "      <td>15.23</td>\n",
       "      <td>1</td>\n",
       "      <td>0.53</td>\n",
       "      <td>0</td>\n",
       "      <td>2</td>\n",
       "      <td>40330.50</td>\n",
       "      <td>...</td>\n",
       "      <td>0</td>\n",
       "      <td>0</td>\n",
       "      <td>0</td>\n",
       "      <td>0</td>\n",
       "      <td>0</td>\n",
       "      <td>0</td>\n",
       "      <td>0</td>\n",
       "      <td>0</td>\n",
       "      <td>0</td>\n",
       "      <td>1</td>\n",
       "    </tr>\n",
       "    <tr>\n",
       "      <th>4</th>\n",
       "      <td>24</td>\n",
       "      <td>54400</td>\n",
       "      <td>8.0</td>\n",
       "      <td>35000</td>\n",
       "      <td>14.27</td>\n",
       "      <td>1</td>\n",
       "      <td>0.55</td>\n",
       "      <td>1</td>\n",
       "      <td>4</td>\n",
       "      <td>39994.50</td>\n",
       "      <td>...</td>\n",
       "      <td>0</td>\n",
       "      <td>0</td>\n",
       "      <td>0</td>\n",
       "      <td>0</td>\n",
       "      <td>0</td>\n",
       "      <td>0</td>\n",
       "      <td>0</td>\n",
       "      <td>0</td>\n",
       "      <td>0</td>\n",
       "      <td>1</td>\n",
       "    </tr>\n",
       "    <tr>\n",
       "      <th>5</th>\n",
       "      <td>21</td>\n",
       "      <td>9900</td>\n",
       "      <td>2.0</td>\n",
       "      <td>2500</td>\n",
       "      <td>7.14</td>\n",
       "      <td>1</td>\n",
       "      <td>0.25</td>\n",
       "      <td>0</td>\n",
       "      <td>2</td>\n",
       "      <td>2678.50</td>\n",
       "      <td>...</td>\n",
       "      <td>0</td>\n",
       "      <td>0</td>\n",
       "      <td>0</td>\n",
       "      <td>0</td>\n",
       "      <td>0</td>\n",
       "      <td>0</td>\n",
       "      <td>1</td>\n",
       "      <td>0</td>\n",
       "      <td>0</td>\n",
       "      <td>0</td>\n",
       "    </tr>\n",
       "    <tr>\n",
       "      <th>...</th>\n",
       "      <td>...</td>\n",
       "      <td>...</td>\n",
       "      <td>...</td>\n",
       "      <td>...</td>\n",
       "      <td>...</td>\n",
       "      <td>...</td>\n",
       "      <td>...</td>\n",
       "      <td>...</td>\n",
       "      <td>...</td>\n",
       "      <td>...</td>\n",
       "      <td>...</td>\n",
       "      <td>...</td>\n",
       "      <td>...</td>\n",
       "      <td>...</td>\n",
       "      <td>...</td>\n",
       "      <td>...</td>\n",
       "      <td>...</td>\n",
       "      <td>...</td>\n",
       "      <td>...</td>\n",
       "      <td>...</td>\n",
       "      <td>...</td>\n",
       "    </tr>\n",
       "    <tr>\n",
       "      <th>32289</th>\n",
       "      <td>40</td>\n",
       "      <td>33000</td>\n",
       "      <td>2.0</td>\n",
       "      <td>1000</td>\n",
       "      <td>10.99</td>\n",
       "      <td>0</td>\n",
       "      <td>0.03</td>\n",
       "      <td>0</td>\n",
       "      <td>15</td>\n",
       "      <td>1109.90</td>\n",
       "      <td>...</td>\n",
       "      <td>0</td>\n",
       "      <td>0</td>\n",
       "      <td>0</td>\n",
       "      <td>0</td>\n",
       "      <td>0</td>\n",
       "      <td>1</td>\n",
       "      <td>1</td>\n",
       "      <td>0</td>\n",
       "      <td>0</td>\n",
       "      <td>0</td>\n",
       "    </tr>\n",
       "    <tr>\n",
       "      <th>32290</th>\n",
       "      <td>37</td>\n",
       "      <td>90000</td>\n",
       "      <td>11.0</td>\n",
       "      <td>4000</td>\n",
       "      <td>6.62</td>\n",
       "      <td>0</td>\n",
       "      <td>0.04</td>\n",
       "      <td>0</td>\n",
       "      <td>15</td>\n",
       "      <td>4264.80</td>\n",
       "      <td>...</td>\n",
       "      <td>0</td>\n",
       "      <td>0</td>\n",
       "      <td>0</td>\n",
       "      <td>0</td>\n",
       "      <td>0</td>\n",
       "      <td>1</td>\n",
       "      <td>1</td>\n",
       "      <td>0</td>\n",
       "      <td>0</td>\n",
       "      <td>0</td>\n",
       "    </tr>\n",
       "    <tr>\n",
       "      <th>32292</th>\n",
       "      <td>38</td>\n",
       "      <td>200000</td>\n",
       "      <td>0.0</td>\n",
       "      <td>3000</td>\n",
       "      <td>7.68</td>\n",
       "      <td>0</td>\n",
       "      <td>0.01</td>\n",
       "      <td>0</td>\n",
       "      <td>12</td>\n",
       "      <td>3230.40</td>\n",
       "      <td>...</td>\n",
       "      <td>0</td>\n",
       "      <td>0</td>\n",
       "      <td>0</td>\n",
       "      <td>0</td>\n",
       "      <td>0</td>\n",
       "      <td>1</td>\n",
       "      <td>1</td>\n",
       "      <td>0</td>\n",
       "      <td>0</td>\n",
       "      <td>0</td>\n",
       "    </tr>\n",
       "    <tr>\n",
       "      <th>32293</th>\n",
       "      <td>38</td>\n",
       "      <td>110000</td>\n",
       "      <td>5.0</td>\n",
       "      <td>16000</td>\n",
       "      <td>11.99</td>\n",
       "      <td>0</td>\n",
       "      <td>0.15</td>\n",
       "      <td>0</td>\n",
       "      <td>13</td>\n",
       "      <td>17918.40</td>\n",
       "      <td>...</td>\n",
       "      <td>0</td>\n",
       "      <td>0</td>\n",
       "      <td>0</td>\n",
       "      <td>0</td>\n",
       "      <td>0</td>\n",
       "      <td>1</td>\n",
       "      <td>0</td>\n",
       "      <td>0</td>\n",
       "      <td>0</td>\n",
       "      <td>1</td>\n",
       "    </tr>\n",
       "    <tr>\n",
       "      <th>32296</th>\n",
       "      <td>40</td>\n",
       "      <td>52000</td>\n",
       "      <td>2.0</td>\n",
       "      <td>15000</td>\n",
       "      <td>18.62</td>\n",
       "      <td>1</td>\n",
       "      <td>0.29</td>\n",
       "      <td>1</td>\n",
       "      <td>16</td>\n",
       "      <td>17793.00</td>\n",
       "      <td>...</td>\n",
       "      <td>0</td>\n",
       "      <td>1</td>\n",
       "      <td>0</td>\n",
       "      <td>0</td>\n",
       "      <td>0</td>\n",
       "      <td>1</td>\n",
       "      <td>0</td>\n",
       "      <td>0</td>\n",
       "      <td>0</td>\n",
       "      <td>1</td>\n",
       "    </tr>\n",
       "  </tbody>\n",
       "</table>\n",
       "<p>30392 rows × 31 columns</p>\n",
       "</div>"
      ],
      "text/plain": [
       "       person_age  person_income  person_emp_length  loan_amnt  loan_int_rate  \\\n",
       "1              21           9600                5.0       1000          11.14   \n",
       "2              25           9600                1.0       5500          12.87   \n",
       "3              23          65500                4.0      35000          15.23   \n",
       "4              24          54400                8.0      35000          14.27   \n",
       "5              21           9900                2.0       2500           7.14   \n",
       "...           ...            ...                ...        ...            ...   \n",
       "32289          40          33000                2.0       1000          10.99   \n",
       "32290          37          90000               11.0       4000           6.62   \n",
       "32292          38         200000                0.0       3000           7.68   \n",
       "32293          38         110000                5.0      16000          11.99   \n",
       "32296          40          52000                2.0      15000          18.62   \n",
       "\n",
       "       loan_status  loan_percent_income  cb_person_default_on_file  \\\n",
       "1                0                 0.10                          0   \n",
       "2                1                 0.57                          0   \n",
       "3                1                 0.53                          0   \n",
       "4                1                 0.55                          1   \n",
       "5                1                 0.25                          0   \n",
       "...            ...                  ...                        ...   \n",
       "32289            0                 0.03                          0   \n",
       "32290            0                 0.04                          0   \n",
       "32292            0                 0.01                          0   \n",
       "32293            0                 0.15                          0   \n",
       "32296            1                 0.29                          1   \n",
       "\n",
       "       cb_person_cred_hist_length  total_pay_back  ...  loan_grade_E  \\\n",
       "1                               2         1111.40  ...             0   \n",
       "2                               3         6207.85  ...             0   \n",
       "3                               2        40330.50  ...             0   \n",
       "4                               4        39994.50  ...             0   \n",
       "5                               2         2678.50  ...             0   \n",
       "...                           ...             ...  ...           ...   \n",
       "32289                          15         1109.90  ...             0   \n",
       "32290                          15         4264.80  ...             0   \n",
       "32292                          12         3230.40  ...             0   \n",
       "32293                          13        17918.40  ...             0   \n",
       "32296                          16        17793.00  ...             0   \n",
       "\n",
       "       loan_grade_F  loan_grade_G  person_age_cat_26-30  person_age_cat_31-35  \\\n",
       "1                 0             0                     0                     0   \n",
       "2                 0             0                     0                     0   \n",
       "3                 0             0                     0                     0   \n",
       "4                 0             0                     0                     0   \n",
       "5                 0             0                     0                     0   \n",
       "...             ...           ...                   ...                   ...   \n",
       "32289             0             0                     0                     0   \n",
       "32290             0             0                     0                     0   \n",
       "32292             0             0                     0                     0   \n",
       "32293             0             0                     0                     0   \n",
       "32296             1             0                     0                     0   \n",
       "\n",
       "       person_age_cat_36-40  loan_amnt_cat_501-5000  loan_amnt_cat_5001-8000  \\\n",
       "1                         0                       1                        0   \n",
       "2                         0                       0                        1   \n",
       "3                         0                       0                        0   \n",
       "4                         0                       0                        0   \n",
       "5                         0                       1                        0   \n",
       "...                     ...                     ...                      ...   \n",
       "32289                     1                       1                        0   \n",
       "32290                     1                       1                        0   \n",
       "32292                     1                       1                        0   \n",
       "32293                     1                       0                        0   \n",
       "32296                     1                       0                        0   \n",
       "\n",
       "       loan_amnt_cat_8001-12000  loan_amnt_cat_12001-35000  \n",
       "1                             0                          0  \n",
       "2                             0                          0  \n",
       "3                             0                          1  \n",
       "4                             0                          1  \n",
       "5                             0                          0  \n",
       "...                         ...                        ...  \n",
       "32289                         0                          0  \n",
       "32290                         0                          0  \n",
       "32292                         0                          0  \n",
       "32293                         0                          1  \n",
       "32296                         0                          1  \n",
       "\n",
       "[30392 rows x 31 columns]"
      ]
     },
     "execution_count": 41,
     "metadata": {},
     "output_type": "execute_result"
    }
   ],
   "source": [
    "df_copy"
   ]
  },
  {
   "cell_type": "code",
   "execution_count": 43,
   "id": "ace880b8",
   "metadata": {},
   "outputs": [],
   "source": [
    "rs = RobustScaler()\n",
    "X_train = rs.fit_transform(X_train)\n",
    "X_test = rs.transform(X_test)"
   ]
  },
  {
   "cell_type": "code",
   "execution_count": 44,
   "id": "c40a0e56",
   "metadata": {},
   "outputs": [],
   "source": [
    "models = [('LR', LogisticRegression(random_state=12345)),\n",
    "           ('KNN', KNeighborsClassifier()),\n",
    "          ('CART', DecisionTreeClassifier(random_state=12345)),\n",
    "           ('RF', RandomForestClassifier(random_state=12345)),\n",
    "          ('GBM', GradientBoostingClassifier(random_state=12345)),\n",
    "          (\"XGBoost\", XGBClassifier(random_state=12345)),\n",
    "          (\"LightGBM\", LGBMClassifier(random_state=12345,verbose=-1)),\n",
    "          (\"CatBoost\", CatBoostClassifier(verbose=False,random_state=12345))]\n"
   ]
  },
  {
   "cell_type": "code",
   "execution_count": 45,
   "id": "96db484e",
   "metadata": {
    "scrolled": false
   },
   "outputs": [
    {
     "name": "stdout",
     "output_type": "stream",
     "text": [
      "########## LR ##########\n",
      "Accuracy: 0.8167\n",
      "F1-Score: 0.4081\n"
     ]
    },
    {
     "name": "stderr",
     "output_type": "stream",
     "text": [
      "C:\\Users\\seyma\\anaconda3\\lib\\site-packages\\sklearn\\neighbors\\_classification.py:228: FutureWarning: Unlike other reduction functions (e.g. `skew`, `kurtosis`), the default behavior of `mode` typically preserves the axis it acts along. In SciPy 1.11.0, this behavior will change: the default value of `keepdims` will become False, the `axis` over which the statistic is taken will be eliminated, and the value None will no longer be accepted. Set `keepdims` to True or False to avoid this warning.\n",
      "  mode, _ = stats.mode(_y[neigh_ind, k], axis=1)\n",
      "C:\\Users\\seyma\\anaconda3\\lib\\site-packages\\sklearn\\neighbors\\_classification.py:228: FutureWarning: Unlike other reduction functions (e.g. `skew`, `kurtosis`), the default behavior of `mode` typically preserves the axis it acts along. In SciPy 1.11.0, this behavior will change: the default value of `keepdims` will become False, the `axis` over which the statistic is taken will be eliminated, and the value None will no longer be accepted. Set `keepdims` to True or False to avoid this warning.\n",
      "  mode, _ = stats.mode(_y[neigh_ind, k], axis=1)\n",
      "C:\\Users\\seyma\\anaconda3\\lib\\site-packages\\sklearn\\neighbors\\_classification.py:228: FutureWarning: Unlike other reduction functions (e.g. `skew`, `kurtosis`), the default behavior of `mode` typically preserves the axis it acts along. In SciPy 1.11.0, this behavior will change: the default value of `keepdims` will become False, the `axis` over which the statistic is taken will be eliminated, and the value None will no longer be accepted. Set `keepdims` to True or False to avoid this warning.\n",
      "  mode, _ = stats.mode(_y[neigh_ind, k], axis=1)\n",
      "C:\\Users\\seyma\\anaconda3\\lib\\site-packages\\sklearn\\neighbors\\_classification.py:228: FutureWarning: Unlike other reduction functions (e.g. `skew`, `kurtosis`), the default behavior of `mode` typically preserves the axis it acts along. In SciPy 1.11.0, this behavior will change: the default value of `keepdims` will become False, the `axis` over which the statistic is taken will be eliminated, and the value None will no longer be accepted. Set `keepdims` to True or False to avoid this warning.\n",
      "  mode, _ = stats.mode(_y[neigh_ind, k], axis=1)\n",
      "C:\\Users\\seyma\\anaconda3\\lib\\site-packages\\sklearn\\neighbors\\_classification.py:228: FutureWarning: Unlike other reduction functions (e.g. `skew`, `kurtosis`), the default behavior of `mode` typically preserves the axis it acts along. In SciPy 1.11.0, this behavior will change: the default value of `keepdims` will become False, the `axis` over which the statistic is taken will be eliminated, and the value None will no longer be accepted. Set `keepdims` to True or False to avoid this warning.\n",
      "  mode, _ = stats.mode(_y[neigh_ind, k], axis=1)\n"
     ]
    },
    {
     "name": "stdout",
     "output_type": "stream",
     "text": [
      "########## KNN ##########\n",
      "Accuracy: 0.8176\n",
      "F1-Score: 0.5241\n",
      "########## CART ##########\n",
      "Accuracy: 0.8586\n",
      "F1-Score: 0.7047\n",
      "########## RF ##########\n",
      "Accuracy: 0.9203\n",
      "F1-Score: 0.7956\n",
      "########## GBM ##########\n",
      "Accuracy: 0.914\n",
      "F1-Score: 0.7743\n",
      "########## XGBoost ##########\n",
      "Accuracy: 0.914\n",
      "F1-Score: 0.789\n",
      "########## LightGBM ##########\n",
      "Accuracy: 0.9208\n",
      "F1-Score: 0.7986\n",
      "########## CatBoost ##########\n",
      "Accuracy: 0.9259\n",
      "F1-Score: 0.8111\n"
     ]
    }
   ],
   "source": [
    "for name, model in models:\n",
    "    cv_results = cross_validate(model, X, y, cv=5, scoring=[\"accuracy\",\"f1\"])\n",
    "    print(f\"########## {name} ##########\")\n",
    "    print(f\"Accuracy: {round(cv_results['test_accuracy'].mean(), 4)}\")\n",
    "    print(f\"F1-Score: {round(cv_results['test_f1'].mean(), 4)}\")"
   ]
  },
  {
   "cell_type": "code",
   "execution_count": 46,
   "id": "e8e5063f",
   "metadata": {},
   "outputs": [],
   "source": [
    "param = {'colsample_bytree': 0.75,\n",
    " 'learning_rate': 0.29,\n",
    " 'max_depth': 11,\n",
    " 'min_child_weight': 0.04,\n",
    " 'num_leaves': 1667,\n",
    " 'subsample': 0.65}"
   ]
  },
  {
   "cell_type": "code",
   "execution_count": null,
   "id": "c9f952eb",
   "metadata": {},
   "outputs": [],
   "source": [
    "# param = {'colsample_bytree': 0.7532132843591004,\n",
    "#  'learning_rate': 0.2898666154077256,\n",
    "#  'max_depth': 11,\n",
    "#  'min_child_weight': 0.03475168869364115,\n",
    "#  'num_leaves': 1667,\n",
    "#  'subsample': 0.6452369742042998}"
   ]
  },
  {
   "cell_type": "code",
   "execution_count": 47,
   "id": "86827371",
   "metadata": {},
   "outputs": [],
   "source": [
    "lgbm_model = LGBMClassifier(**param,random_state=42,verbose=-1).fit(X_train,y_train)"
   ]
  },
  {
   "cell_type": "code",
   "execution_count": 48,
   "id": "0d350e0b",
   "metadata": {},
   "outputs": [],
   "source": [
    "y_pred = lgbm_model.predict(X_test)"
   ]
  },
  {
   "cell_type": "code",
   "execution_count": 49,
   "id": "36c0c44e",
   "metadata": {},
   "outputs": [
    {
     "name": "stdout",
     "output_type": "stream",
     "text": [
      "F1: 0.8346\n"
     ]
    }
   ],
   "source": [
    "from sklearn.metrics import f1_score\n",
    "\n",
    "f1_ = f1_score(y_test,y_pred)\n",
    "print(f\"F1: {f1_:.4f}\")"
   ]
  },
  {
   "cell_type": "code",
   "execution_count": 50,
   "id": "f398cfcb",
   "metadata": {
    "scrolled": false
   },
   "outputs": [
    {
     "data": {
      "image/png": "[encoded data removed]",
      "text/plain": [
       "<Figure size 640x480 with 2 Axes>"
      ]
     },
     "metadata": {},
     "output_type": "display_data"
    }
   ],
   "source": [
    "from sklearn.metrics import confusion_matrix ,classification_report\n",
    "from matplotlib import rc,rcParams\n",
    "import numpy as np \n",
    "import itertools\n",
    "\n",
    "def plot_confusion_matrix(cm, classes,\n",
    "                          title='Confusion matrix',\n",
    "                          cmap=plt.cm.Blues):\n",
    "\n",
    "    plt.rcParams.update({'font.size': 19})\n",
    "    plt.imshow(cm, interpolation='nearest', cmap=cmap)\n",
    "    plt.title(title,fontdict={'size':'16'})\n",
    "    plt.colorbar()\n",
    "    tick_marks = np.arange(len(classes))\n",
    "    plt.xticks(tick_marks, classes, rotation=45,fontsize=12,color=\"#2f5866\")\n",
    "    plt.yticks(tick_marks, classes,fontsize=12,color=\"#2f5866\")\n",
    "    rc('font', weight='bold')\n",
    "    fmt = '.1f'\n",
    "    thresh = cm.max()\n",
    "    for i, j in itertools.product(range(cm.shape[0]), range(cm.shape[1])):\n",
    "        plt.text(j, i, format(cm[i, j], fmt),\n",
    "                 horizontalalignment=\"center\",\n",
    "                 color=\"#70a2b6\")\n",
    "\n",
    "    plt.ylabel('True label',fontdict={'size':'16'})\n",
    "    plt.xlabel('Predicted label',fontdict={'size':'16'})\n",
    "    plt.tight_layout()\n",
    "\n",
    "plot_confusion_matrix(confusion_matrix(y_test, y_pred=y_pred), classes=['Non default 0','default 1'],\n",
    "                      title='Confusion matrix')"
   ]
  },
  {
   "cell_type": "code",
   "execution_count": 51,
   "id": "ff71e1e9",
   "metadata": {},
   "outputs": [
    {
     "name": "stdout",
     "output_type": "stream",
     "text": [
      "              precision    recall  f1-score   support\n",
      "\n",
      "           0       0.93      0.99      0.96      4734\n",
      "           1       0.94      0.75      0.83      1345\n",
      "\n",
      "    accuracy                           0.93      6079\n",
      "   macro avg       0.94      0.87      0.90      6079\n",
      "weighted avg       0.93      0.93      0.93      6079\n",
      "\n"
     ]
    }
   ],
   "source": [
    "print(classification_report(y_test, y_pred))"
   ]
  },
  {
   "cell_type": "code",
   "execution_count": null,
   "id": "26d71142",
   "metadata": {},
   "outputs": [],
   "source": [
    "# pip install scikit-optimize lightgbm"
   ]
  },
  {
   "cell_type": "markdown",
   "id": "d314d62b",
   "metadata": {},
   "source": [
    "### Yeniden Örnekleme (Resampling)\n",
    "#### Oversampling "
   ]
  },
  {
   "cell_type": "code",
   "execution_count": 53,
   "id": "51726733",
   "metadata": {},
   "outputs": [],
   "source": [
    "# pip install imblearn"
   ]
  },
  {
   "cell_type": "markdown",
   "id": "6704ce5f",
   "metadata": {},
   "source": [
    "##### SMOTE Oversampling\n",
    "\n",
    "Overfitting’i önlemek için azınlık sınıfından sentetik örnekler oluşturulması.\n",
    "\n",
    "* Önce azınlık sınıfından rastgele bir örnek seçilir.\n",
    "* Daha sonra bu örnek için en yakın komşulardan k tanesi bulunur.\n",
    "* k en yakın komşulardan biri rastgele seçilir ve azınlık sınıfından rastgele seçilen örnekle birleştirilip özellik uzayında bir çizgi parçası oluşturarak sentetik örnek oluşturulur."
   ]
  },
  {
   "cell_type": "code",
   "execution_count": 52,
   "id": "4c874ff5",
   "metadata": {},
   "outputs": [
    {
     "data": {
      "text/plain": [
       "0    18985\n",
       "1     5328\n",
       "Name: loan_status, dtype: int64"
      ]
     },
     "execution_count": 52,
     "metadata": {},
     "output_type": "execute_result"
    }
   ],
   "source": [
    "y_train.value_counts()"
   ]
  },
  {
   "cell_type": "code",
   "execution_count": 54,
   "id": "8208f664",
   "metadata": {},
   "outputs": [],
   "source": [
    "from imblearn.over_sampling import SMOTE\n",
    "oversample = SMOTE(random_state=42)\n",
    "X_smote, y_smote = oversample.fit_resample(X_train,y_train)"
   ]
  },
  {
   "cell_type": "code",
   "execution_count": 55,
   "id": "379c601a",
   "metadata": {},
   "outputs": [
    {
     "data": {
      "text/plain": [
       "0    18985\n",
       "1    18985\n",
       "Name: loan_status, dtype: int64"
      ]
     },
     "execution_count": 55,
     "metadata": {},
     "output_type": "execute_result"
    }
   ],
   "source": [
    "y_smote.value_counts()"
   ]
  },
  {
   "cell_type": "code",
   "execution_count": 56,
   "id": "e0f71934",
   "metadata": {},
   "outputs": [
    {
     "name": "stdout",
     "output_type": "stream",
     "text": [
      "F1-Score: 0.838%\n"
     ]
    }
   ],
   "source": [
    "lgbm_model.fit(X_smote, y_smote)\n",
    "y_pred_sro = lgbm_model.predict(X_test)\n",
    "\n",
    "f1_sro = f1_score(y_test, y_pred_sro)\n",
    "print(\"F1-Score: %.3f%%\" % (f1_sro))"
   ]
  },
  {
   "cell_type": "code",
   "execution_count": 57,
   "id": "2d0ac0cf",
   "metadata": {},
   "outputs": [
    {
     "data": {
      "image/png": "[encoded data removed]",
      "text/plain": [
       "<Figure size 640x480 with 2 Axes>"
      ]
     },
     "metadata": {},
     "output_type": "display_data"
    }
   ],
   "source": [
    "plot_confusion_matrix(confusion_matrix(y_test, y_pred=y_pred_sro), classes=['Non default 0','default 1'],\n",
    "                      title='Confusion matrix')"
   ]
  },
  {
   "cell_type": "code",
   "execution_count": 58,
   "id": "a1b226a5",
   "metadata": {},
   "outputs": [
    {
     "name": "stdout",
     "output_type": "stream",
     "text": [
      "              precision    recall  f1-score   support\n",
      "\n",
      "           0       0.93      0.99      0.96      4734\n",
      "           1       0.94      0.76      0.84      1345\n",
      "\n",
      "    accuracy                           0.94      6079\n",
      "   macro avg       0.94      0.87      0.90      6079\n",
      "weighted avg       0.94      0.94      0.93      6079\n",
      "\n"
     ]
    }
   ],
   "source": [
    "print(classification_report(y_test, y_pred_sro))"
   ]
  },
  {
   "cell_type": "code",
   "execution_count": null,
   "id": "4f8afdac",
   "metadata": {},
   "outputs": [],
   "source": []
  }
 ],
 "metadata": {
  "kernelspec": {
   "display_name": "Python 3 (ipykernel)",
   "language": "python",
   "name": "python3"
  },
  "language_info": {
   "codemirror_mode": {
    "name": "ipython",
    "version": 3
   },
   "file_extension": ".py",
   "mimetype": "text/x-python",
   "name": "python",
   "nbconvert_exporter": "python",
   "pygments_lexer": "ipython3",
   "version": "3.9.13"
  }
 },
 "nbformat": 4,
 "nbformat_minor": 5
}
